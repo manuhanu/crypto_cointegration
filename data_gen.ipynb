{
 "cells": [
  {
   "cell_type": "code",
   "execution_count": 8,
   "metadata": {},
   "outputs": [],
   "source": [
    "import numpy as np\n",
    "import pandas as pd\n",
    "import matplotlib.pyplot as plt\n"
   ]
  },
  {
   "cell_type": "code",
   "execution_count": 4,
   "metadata": {},
   "outputs": [],
   "source": [
    "def prep_data(filepaths):\n",
    "    dfs = [] #initialize a list of pd dataframes\n",
    "\n",
    "    #go through each of the filepath strings and read the csv, then append to the dataframe\n",
    "    for i in range(len(filepaths)):\n",
    "        d = pd.read_csv(filepaths[i])\n",
    "        dfs.append(d)\n",
    "\n",
    "    df_out = dfs[0]\n",
    "    name1 = df_out['Symbol'].iloc[0]\n",
    "    names = ['Date',f'Close_{name1}']\n",
    "\n",
    "    for i in range(1,len(dfs)):\n",
    "        name1,name2 = dfs[i-1]['Symbol'].iloc[0],dfs[i]['Symbol'].iloc[0]\n",
    "        names.append(f'Close_{name2}')\n",
    "        \n",
    "        df_out = df_out.merge(dfs[i], how='outer', left_on='Date', right_on='Date',suffixes=(f'_{name1}', f'_{name2}'))\n",
    "\n",
    "    df_out = df_out[names]   \n",
    "    df_out = df_out.set_index('Date',drop=True)\n",
    "    \n",
    "    return df_out.dropna()\n",
    "\n",
    "\n",
    "\n",
    "data1 = pd.read_csv('/Users/manuelhanuch/Downloads/crypto_daily_data/coin_Bitcoin.csv')\n",
    "data2 = pd.read_csv('/Users/manuelhanuch/Downloads/crypto_daily_data/coin_Ethereum.csv')\n",
    "\n",
    "dfs = [data1,data2]\n",
    "min_rows = dfs[0]\n",
    "\n",
    "for df in dfs:\n",
    "    if df.shape[0] <min_rows.shape[0]:\n",
    "        min_rows = df\n",
    "\n",
    "\n",
    "a = ['/Users/manuelhanuch/Downloads/crypto_daily_data/coin_Bitcoin.csv','/Users/manuelhanuch/Downloads/crypto_daily_data/coin_Ethereum.csv']"
   ]
  },
  {
   "cell_type": "code",
   "execution_count": 11,
   "metadata": {},
   "outputs": [
    {
     "data": {
      "text/plain": [
       "array([[7.53324986e-01],\n",
       "       [7.01897025e-01],\n",
       "       [7.08447993e-01],\n",
       "       ...,\n",
       "       [2.32172411e+03],\n",
       "       [2.19858246e+03],\n",
       "       [2.32467945e+03]])"
      ]
     },
     "execution_count": 11,
     "metadata": {},
     "output_type": "execute_result"
    }
   ],
   "source": [
    "df = prep_data(a)\n",
    "df[['Close_ETH']].values"
   ]
  },
  {
   "cell_type": "code",
   "execution_count": 13,
   "metadata": {},
   "outputs": [
    {
     "data": {
      "text/plain": [
       "[<matplotlib.lines.Line2D at 0x7f9bd2374e50>]"
      ]
     },
     "execution_count": 13,
     "metadata": {},
     "output_type": "execute_result"
    },
    {
     "data": {
      "image/png": "[encoded data removed]",
      "text/plain": [
       "<Figure size 432x288 with 1 Axes>"
      ]
     },
     "metadata": {
      "needs_background": "light"
     },
     "output_type": "display_data"
    }
   ],
   "source": [
    "#plt.plot(df[['Close_BTC']])\n",
    "plt.plot(df[['Close_ETH']].values)\n",
    "plt.plot(df[['Close_BTC']].values)"
   ]
  },
  {
   "cell_type": "code",
   "execution_count": 13,
   "metadata": {},
   "outputs": [
    {
     "data": {
      "text/plain": [
       "(2160, 11)"
      ]
     },
     "execution_count": 13,
     "metadata": {},
     "output_type": "execute_result"
    }
   ],
   "source": [
    "df_out = data1.merge(data2, how='outer', left_on='Date', right_on='Date',suffixes=('_BTC', '_ETH'))\n",
    "(df_out.dropna()).shape"
   ]
  },
  {
   "cell_type": "code",
   "execution_count": 15,
   "metadata": {},
   "outputs": [
    {
     "data": {
      "text/html": [
       "<div>\n",
       "<style scoped>\n",
       "    .dataframe tbody tr th:only-of-type {\n",
       "        vertical-align: middle;\n",
       "    }\n",
       "\n",
       "    .dataframe tbody tr th {\n",
       "        vertical-align: top;\n",
       "    }\n",
       "\n",
       "    .dataframe thead th {\n",
       "        text-align: right;\n",
       "    }\n",
       "</style>\n",
       "<table border=\"1\" class=\"dataframe\">\n",
       "  <thead>\n",
       "    <tr style=\"text-align: right;\">\n",
       "      <th></th>\n",
       "      <th>SNo</th>\n",
       "      <th>Name</th>\n",
       "      <th>Symbol</th>\n",
       "      <th>Date</th>\n",
       "      <th>High</th>\n",
       "      <th>Low</th>\n",
       "      <th>Open</th>\n",
       "      <th>Close_ETH</th>\n",
       "      <th>Volume</th>\n",
       "      <th>Marketcap</th>\n",
       "      <th>Close_BTC</th>\n",
       "    </tr>\n",
       "  </thead>\n",
       "  <tbody>\n",
       "    <tr>\n",
       "      <th>0</th>\n",
       "      <td>1.0</td>\n",
       "      <td>Ethereum</td>\n",
       "      <td>ETH</td>\n",
       "      <td>2015-08-08 23:59:59</td>\n",
       "      <td>2.798810</td>\n",
       "      <td>0.714725</td>\n",
       "      <td>2.793760</td>\n",
       "      <td>0.753325</td>\n",
       "      <td>6.741880e+05</td>\n",
       "      <td>4.548689e+07</td>\n",
       "      <td>260.997009</td>\n",
       "    </tr>\n",
       "    <tr>\n",
       "      <th>1</th>\n",
       "      <td>2.0</td>\n",
       "      <td>Ethereum</td>\n",
       "      <td>ETH</td>\n",
       "      <td>2015-08-09 23:59:59</td>\n",
       "      <td>0.879810</td>\n",
       "      <td>0.629191</td>\n",
       "      <td>0.706136</td>\n",
       "      <td>0.701897</td>\n",
       "      <td>5.321700e+05</td>\n",
       "      <td>4.239957e+07</td>\n",
       "      <td>265.083008</td>\n",
       "    </tr>\n",
       "    <tr>\n",
       "      <th>2</th>\n",
       "      <td>3.0</td>\n",
       "      <td>Ethereum</td>\n",
       "      <td>ETH</td>\n",
       "      <td>2015-08-10 23:59:59</td>\n",
       "      <td>0.729854</td>\n",
       "      <td>0.636546</td>\n",
       "      <td>0.713989</td>\n",
       "      <td>0.708448</td>\n",
       "      <td>4.052830e+05</td>\n",
       "      <td>4.281836e+07</td>\n",
       "      <td>264.470001</td>\n",
       "    </tr>\n",
       "    <tr>\n",
       "      <th>3</th>\n",
       "      <td>4.0</td>\n",
       "      <td>Ethereum</td>\n",
       "      <td>ETH</td>\n",
       "      <td>2015-08-11 23:59:59</td>\n",
       "      <td>1.131410</td>\n",
       "      <td>0.663235</td>\n",
       "      <td>0.708087</td>\n",
       "      <td>1.067860</td>\n",
       "      <td>1.463100e+06</td>\n",
       "      <td>6.456929e+07</td>\n",
       "      <td>270.385986</td>\n",
       "    </tr>\n",
       "    <tr>\n",
       "      <th>4</th>\n",
       "      <td>5.0</td>\n",
       "      <td>Ethereum</td>\n",
       "      <td>ETH</td>\n",
       "      <td>2015-08-12 23:59:59</td>\n",
       "      <td>1.289940</td>\n",
       "      <td>0.883608</td>\n",
       "      <td>1.058750</td>\n",
       "      <td>1.217440</td>\n",
       "      <td>2.150620e+06</td>\n",
       "      <td>7.364501e+07</td>\n",
       "      <td>266.376007</td>\n",
       "    </tr>\n",
       "    <tr>\n",
       "      <th>...</th>\n",
       "      <td>...</td>\n",
       "      <td>...</td>\n",
       "      <td>...</td>\n",
       "      <td>...</td>\n",
       "      <td>...</td>\n",
       "      <td>...</td>\n",
       "      <td>...</td>\n",
       "      <td>...</td>\n",
       "      <td>...</td>\n",
       "      <td>...</td>\n",
       "      <td>...</td>\n",
       "    </tr>\n",
       "    <tr>\n",
       "      <th>2155</th>\n",
       "      <td>2156.0</td>\n",
       "      <td>Ethereum</td>\n",
       "      <td>ETH</td>\n",
       "      <td>2021-07-02 23:59:59</td>\n",
       "      <td>2155.596496</td>\n",
       "      <td>2021.824808</td>\n",
       "      <td>2109.892677</td>\n",
       "      <td>2150.040364</td>\n",
       "      <td>3.179621e+10</td>\n",
       "      <td>2.505527e+11</td>\n",
       "      <td>33897.048590</td>\n",
       "    </tr>\n",
       "    <tr>\n",
       "      <th>2156</th>\n",
       "      <td>2157.0</td>\n",
       "      <td>Ethereum</td>\n",
       "      <td>ETH</td>\n",
       "      <td>2021-07-03 23:59:59</td>\n",
       "      <td>2237.567155</td>\n",
       "      <td>2117.590013</td>\n",
       "      <td>2150.835025</td>\n",
       "      <td>2226.114282</td>\n",
       "      <td>1.743336e+10</td>\n",
       "      <td>2.594475e+11</td>\n",
       "      <td>34668.548402</td>\n",
       "    </tr>\n",
       "    <tr>\n",
       "      <th>2157</th>\n",
       "      <td>2158.0</td>\n",
       "      <td>Ethereum</td>\n",
       "      <td>ETH</td>\n",
       "      <td>2021-07-04 23:59:59</td>\n",
       "      <td>2384.286857</td>\n",
       "      <td>2190.837703</td>\n",
       "      <td>2226.550382</td>\n",
       "      <td>2321.724112</td>\n",
       "      <td>1.878711e+10</td>\n",
       "      <td>2.706217e+11</td>\n",
       "      <td>35287.779766</td>\n",
       "    </tr>\n",
       "    <tr>\n",
       "      <th>2158</th>\n",
       "      <td>2159.0</td>\n",
       "      <td>Ethereum</td>\n",
       "      <td>ETH</td>\n",
       "      <td>2021-07-05 23:59:59</td>\n",
       "      <td>2321.922836</td>\n",
       "      <td>2163.041394</td>\n",
       "      <td>2321.922836</td>\n",
       "      <td>2198.582464</td>\n",
       "      <td>2.010379e+10</td>\n",
       "      <td>2.562978e+11</td>\n",
       "      <td>33746.002456</td>\n",
       "    </tr>\n",
       "    <tr>\n",
       "      <th>2159</th>\n",
       "      <td>2160.0</td>\n",
       "      <td>Ethereum</td>\n",
       "      <td>ETH</td>\n",
       "      <td>2021-07-06 23:59:59</td>\n",
       "      <td>2346.294874</td>\n",
       "      <td>2197.919385</td>\n",
       "      <td>2197.919385</td>\n",
       "      <td>2324.679449</td>\n",
       "      <td>2.089186e+10</td>\n",
       "      <td>2.710286e+11</td>\n",
       "      <td>34235.193451</td>\n",
       "    </tr>\n",
       "  </tbody>\n",
       "</table>\n",
       "<p>2160 rows × 11 columns</p>\n",
       "</div>"
      ],
      "text/plain": [
       "         SNo      Name Symbol                 Date         High          Low  \\\n",
       "0        1.0  Ethereum    ETH  2015-08-08 23:59:59     2.798810     0.714725   \n",
       "1        2.0  Ethereum    ETH  2015-08-09 23:59:59     0.879810     0.629191   \n",
       "2        3.0  Ethereum    ETH  2015-08-10 23:59:59     0.729854     0.636546   \n",
       "3        4.0  Ethereum    ETH  2015-08-11 23:59:59     1.131410     0.663235   \n",
       "4        5.0  Ethereum    ETH  2015-08-12 23:59:59     1.289940     0.883608   \n",
       "...      ...       ...    ...                  ...          ...          ...   \n",
       "2155  2156.0  Ethereum    ETH  2021-07-02 23:59:59  2155.596496  2021.824808   \n",
       "2156  2157.0  Ethereum    ETH  2021-07-03 23:59:59  2237.567155  2117.590013   \n",
       "2157  2158.0  Ethereum    ETH  2021-07-04 23:59:59  2384.286857  2190.837703   \n",
       "2158  2159.0  Ethereum    ETH  2021-07-05 23:59:59  2321.922836  2163.041394   \n",
       "2159  2160.0  Ethereum    ETH  2021-07-06 23:59:59  2346.294874  2197.919385   \n",
       "\n",
       "             Open    Close_ETH        Volume     Marketcap     Close_BTC  \n",
       "0        2.793760     0.753325  6.741880e+05  4.548689e+07    260.997009  \n",
       "1        0.706136     0.701897  5.321700e+05  4.239957e+07    265.083008  \n",
       "2        0.713989     0.708448  4.052830e+05  4.281836e+07    264.470001  \n",
       "3        0.708087     1.067860  1.463100e+06  6.456929e+07    270.385986  \n",
       "4        1.058750     1.217440  2.150620e+06  7.364501e+07    266.376007  \n",
       "...           ...          ...           ...           ...           ...  \n",
       "2155  2109.892677  2150.040364  3.179621e+10  2.505527e+11  33897.048590  \n",
       "2156  2150.835025  2226.114282  1.743336e+10  2.594475e+11  34668.548402  \n",
       "2157  2226.550382  2321.724112  1.878711e+10  2.706217e+11  35287.779766  \n",
       "2158  2321.922836  2198.582464  2.010379e+10  2.562978e+11  33746.002456  \n",
       "2159  2197.919385  2324.679449  2.089186e+10  2.710286e+11  34235.193451  \n",
       "\n",
       "[2160 rows x 11 columns]"
      ]
     },
     "execution_count": 15,
     "metadata": {},
     "output_type": "execute_result"
    }
   ],
   "source": [
    "df_out = data2.merge(data1, how='outer', left_on='Date', right_on='Date',suffixes=('_ETH', '_BTC'))\n",
    "df_out.dropna()"
   ]
  },
  {
   "cell_type": "code",
   "execution_count": 33,
   "metadata": {},
   "outputs": [
    {
     "name": "stdout",
     "output_type": "stream",
     "text": [
      "test BTC\n"
     ]
    }
   ],
   "source": [
    "name = data1['Symbol'].iloc[0]\n",
    "print(f'test {name}')"
   ]
  },
  {
   "cell_type": "code",
   "execution_count": 8,
   "metadata": {},
   "outputs": [
    {
     "data": {
      "text/plain": [
       "Date     2013-04-29 23:59:59\n",
       "Close             144.539993\n",
       "Name: 0, dtype: object"
      ]
     },
     "execution_count": 8,
     "metadata": {},
     "output_type": "execute_result"
    }
   ],
   "source": [
    "data1 = data1[['Date','Close']]\n",
    "data1.iloc[0]"
   ]
  },
  {
   "cell_type": "code",
   "execution_count": 20,
   "metadata": {},
   "outputs": [
    {
     "name": "stdout",
     "output_type": "stream",
     "text": [
      "0\n",
      "1\n",
      "2\n",
      "3\n",
      "4\n"
     ]
    }
   ],
   "source": [
    "for i in range(5):\n",
    "    print(i)"
   ]
  },
  {
   "cell_type": "code",
   "execution_count": 14,
   "metadata": {},
   "outputs": [
    {
     "data": {
      "text/html": [
       "<div>\n",
       "<style scoped>\n",
       "    .dataframe tbody tr th:only-of-type {\n",
       "        vertical-align: middle;\n",
       "    }\n",
       "\n",
       "    .dataframe tbody tr th {\n",
       "        vertical-align: top;\n",
       "    }\n",
       "\n",
       "    .dataframe thead th {\n",
       "        text-align: right;\n",
       "    }\n",
       "</style>\n",
       "<table border=\"1\" class=\"dataframe\">\n",
       "  <thead>\n",
       "    <tr style=\"text-align: right;\">\n",
       "      <th></th>\n",
       "      <th>Date</th>\n",
       "      <th>Close_BTC</th>\n",
       "      <th>Close_WBTC</th>\n",
       "    </tr>\n",
       "  </thead>\n",
       "  <tbody>\n",
       "    <tr>\n",
       "      <th>0</th>\n",
       "      <td>2019-01-31 23:59:59</td>\n",
       "      <td>3457.792747</td>\n",
       "      <td>3466.506533</td>\n",
       "    </tr>\n",
       "    <tr>\n",
       "      <th>1</th>\n",
       "      <td>2019-02-01 23:59:59</td>\n",
       "      <td>3487.945387</td>\n",
       "      <td>3480.772314</td>\n",
       "    </tr>\n",
       "    <tr>\n",
       "      <th>2</th>\n",
       "      <td>2019-02-02 23:59:59</td>\n",
       "      <td>3521.060787</td>\n",
       "      <td>3542.095361</td>\n",
       "    </tr>\n",
       "    <tr>\n",
       "      <th>3</th>\n",
       "      <td>2019-02-03 23:59:59</td>\n",
       "      <td>3464.013326</td>\n",
       "      <td>3477.866026</td>\n",
       "    </tr>\n",
       "    <tr>\n",
       "      <th>4</th>\n",
       "      <td>2019-02-04 23:59:59</td>\n",
       "      <td>3459.154146</td>\n",
       "      <td>3481.219346</td>\n",
       "    </tr>\n",
       "    <tr>\n",
       "      <th>...</th>\n",
       "      <td>...</td>\n",
       "      <td>...</td>\n",
       "      <td>...</td>\n",
       "    </tr>\n",
       "    <tr>\n",
       "      <th>883</th>\n",
       "      <td>2021-07-02 23:59:59</td>\n",
       "      <td>33897.048590</td>\n",
       "      <td>33824.263339</td>\n",
       "    </tr>\n",
       "    <tr>\n",
       "      <th>884</th>\n",
       "      <td>2021-07-03 23:59:59</td>\n",
       "      <td>34668.548402</td>\n",
       "      <td>34676.985915</td>\n",
       "    </tr>\n",
       "    <tr>\n",
       "      <th>885</th>\n",
       "      <td>2021-07-04 23:59:59</td>\n",
       "      <td>35287.779766</td>\n",
       "      <td>35289.762931</td>\n",
       "    </tr>\n",
       "    <tr>\n",
       "      <th>886</th>\n",
       "      <td>2021-07-05 23:59:59</td>\n",
       "      <td>33746.002456</td>\n",
       "      <td>33806.661764</td>\n",
       "    </tr>\n",
       "    <tr>\n",
       "      <th>887</th>\n",
       "      <td>2021-07-06 23:59:59</td>\n",
       "      <td>34235.193451</td>\n",
       "      <td>34189.372826</td>\n",
       "    </tr>\n",
       "  </tbody>\n",
       "</table>\n",
       "<p>888 rows × 3 columns</p>\n",
       "</div>"
      ],
      "text/plain": [
       "                    Date     Close_BTC    Close_WBTC\n",
       "0    2019-01-31 23:59:59   3457.792747   3466.506533\n",
       "1    2019-02-01 23:59:59   3487.945387   3480.772314\n",
       "2    2019-02-02 23:59:59   3521.060787   3542.095361\n",
       "3    2019-02-03 23:59:59   3464.013326   3477.866026\n",
       "4    2019-02-04 23:59:59   3459.154146   3481.219346\n",
       "..                   ...           ...           ...\n",
       "883  2021-07-02 23:59:59  33897.048590  33824.263339\n",
       "884  2021-07-03 23:59:59  34668.548402  34676.985915\n",
       "885  2021-07-04 23:59:59  35287.779766  35289.762931\n",
       "886  2021-07-05 23:59:59  33746.002456  33806.661764\n",
       "887  2021-07-06 23:59:59  34235.193451  34189.372826\n",
       "\n",
       "[888 rows x 3 columns]"
      ]
     },
     "execution_count": 14,
     "metadata": {},
     "output_type": "execute_result"
    }
   ],
   "source": [
    "df = pd.read_csv('btc_wrappedBtc')\n",
    "df"
   ]
  },
  {
   "cell_type": "code",
   "execution_count": 15,
   "metadata": {},
   "outputs": [
    {
     "data": {
      "text/plain": [
       "[<matplotlib.lines.Line2D at 0x7f9bd28ea1f0>]"
      ]
     },
     "execution_count": 15,
     "metadata": {},
     "output_type": "execute_result"
    },
    {
     "data": {
      "image/png": "[encoded data removed]",
      "text/plain": [
       "<Figure size 432x288 with 1 Axes>"
      ]
     },
     "metadata": {
      "needs_background": "light"
     },
     "output_type": "display_data"
    }
   ],
   "source": [
    "plt.plot(df[['Close_WBTC']].values)\n",
    "plt.plot(df[['Close_BTC']].values)"
   ]
  },
  {
   "cell_type": "code",
   "execution_count": null,
   "metadata": {},
   "outputs": [],
   "source": []
  },
  {
   "cell_type": "code",
   "execution_count": null,
   "metadata": {},
   "outputs": [],
   "source": []
  }
 ],
 "metadata": {
  "interpreter": {
   "hash": "6c5ad049284fdd8572b5535696a8e5071906ef1ed2d33a795816e1fff3da542c"
  },
  "kernelspec": {
   "display_name": "Python 3.8.12 ('base')",
   "language": "python",
   "name": "python3"
  },
  "language_info": {
   "codemirror_mode": {
    "name": "ipython",
    "version": 3
   },
   "file_extension": ".py",
   "mimetype": "text/x-python",
   "name": "python",
   "nbconvert_exporter": "python",
   "pygments_lexer": "ipython3",
   "version": "3.8.12"
  },
  "orig_nbformat": 4
 },
 "nbformat": 4,
 "nbformat_minor": 2
}
